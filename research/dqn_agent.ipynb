{
  "cells": [
    {
      "attachments": {},
      "cell_type": "markdown",
      "metadata": {
        "id": "hh5uYYwHEGFI"
      },
      "source": [
        "## Разработка DQN-агента\n",
        "В рамках данного ноутбука показана разработка DQN-агента, а также пример его использования на случайных данных"
      ]
    },
    {
      "cell_type": "code",
      "execution_count": null,
      "metadata": {
        "colab": {
          "base_uri": "https://localhost:8080/"
        },
        "id": "Kk5gXfrnZYek",
        "outputId": "4e3e8510-5f05-4f94-a3b8-7b973c5d8053"
      },
      "outputs": [],
      "source": [
        "import pandas as pd\n",
        "from ..utils import envGenerator\n",
        "file_name = 'vacancies_df.xlsx'\n",
        "generator_object = envGenerator(file_name,5000)\n",
        "observations = generator_object.environment"
      ]
    },
    {
      "attachments": {},
      "cell_type": "markdown",
      "metadata": {
        "id": "IOmBXIv4RvOi"
      },
      "source": [
        "##### Нейронная сеть, лежащая в основе DQN\n",
        "\n",
        "$2\\times 1 \\underset{(reLU)}→ 128\\times 1 \\underset{(reLU)}→ 64\\times 1 \\underset{(reLU)}→ N\\times 1$ ($N$ - количество возможных действий)"
      ]
    },
    {
      "cell_type": "code",
      "execution_count": 2,
      "metadata": {
        "id": "yo8nnv3TUrIN"
      },
      "outputs": [],
      "source": [
        "import torch.nn as nn\n",
        "\n",
        "class DQNSolver(nn.Module):\n",
        "    def __init__(self, n_actions, obvs_size):\n",
        "        super().__init__()\n",
        "        self.agent_net = nn.Sequential(\n",
        "            nn.Linear(2, 128),\n",
        "            nn.ReLU(),\n",
        "            nn.Linear(128, 64),\n",
        "            nn.ReLU(),\n",
        "            nn.Linear(64, n_actions)\n",
        "        )\n",
        "\n",
        "    def forward(self, x):\n",
        "        return self.agent_net(x)"
      ]
    },
    {
      "attachments": {},
      "cell_type": "markdown",
      "metadata": {
        "id": "ORp6_slbUtuB"
      },
      "source": [
        "##### DQN-агент, в рамках которого принимаются решения, происходит переобучение и сохраняются веса"
      ]
    },
    {
      "cell_type": "code",
      "execution_count": 3,
      "metadata": {
        "id": "2G7yohwbJUR2"
      },
      "outputs": [],
      "source": [
        "import pickle\n",
        "import random\n",
        "import torch\n",
        "\n",
        "class DQNAgent:\n",
        "\n",
        "    def __init__(self, state_space, action_space, max_memory_size, batch_size, gamma, lr,\n",
        "                 exploration_max, exploration_min, exploration_decay, pretrained,\n",
        "                 memory):\n",
        "\n",
        "        # параметры-константы\n",
        "        self.state_space = state_space\n",
        "        self.action_space = action_space\n",
        "        self.pretrained = pretrained\n",
        "        self.device = 'cuda' if torch.cuda.is_available() else 'cpu'\n",
        "        \n",
        "        # DQN-сеть  \n",
        "        self.dqn = DQNSolver(action_space, state_space).to(self.device)\n",
        "\n",
        "        # загрузка предобученных весов DQN-сети\n",
        "        if self.pretrained:\n",
        "            self.dqn.load_state_dict(torch.load(\"DQN.pt\", map_location=torch.device(self.device)))\n",
        "\n",
        "        # adam-оптимизатор переобучения весов\n",
        "        self.optimizer = torch.optim.Adam(self.dqn.parameters(), lr=lr)\n",
        "\n",
        "        # загрузка offline-данных о среде\n",
        "        self.STATE_MEM, self.ACTION_MEM, self.REWARD_MEM, self.STATE2_MEM = memory\n",
        "  \n",
        "        # размер батчей\n",
        "        self.memory_sample_size = batch_size\n",
        "        \n",
        "        # параметры для обучения\n",
        "        self.gamma = gamma # важность наград в будущем\n",
        "        self.l1 = nn.SmoothL1Loss().to(self.device) # функция потерь Хьюбера\n",
        "        self.exploration_max = exploration_max # максимальный эпсилон\n",
        "        self.exploration_rate = exploration_max # эпсилон\n",
        "        self.exploration_min = exploration_min # минимальный эпсилон\n",
        "        self.exploration_decay = exploration_decay # степень уменьшения эпсилона\n",
        "    \n",
        "    def batch_experiences(self):\n",
        "        \"\"\"\n",
        "        Получение батчей из среды\n",
        "        \"\"\"\n",
        "        idx = random.choices(range(self.STATE_MEM.shape[0]), k=self.memory_sample_size)\n",
        "        STATE = self.STATE_MEM[idx]\n",
        "        ACTION = self.ACTION_MEM[idx]\n",
        "        REWARD = self.REWARD_MEM[idx]\n",
        "        STATE2 = self.STATE2_MEM[idx]\n",
        "        return STATE, ACTION, REWARD, STATE2\n",
        "    \n",
        "    def act(self, state):\n",
        "        \"\"\"\n",
        "        Epsilon-greedy принятие решений\n",
        "        \"\"\"\n",
        "        if random.random() < self.exploration_rate:  \n",
        "            return torch.tensor([[random.randrange(self.action_space)]])\n",
        "        else:\n",
        "            return torch.argmax(self.dqn(state.to(self.device)), dim=0)\n",
        "    \n",
        "    def experience_replay(self):\n",
        "        \"\"\"\n",
        "        Процесс переобучения\n",
        "        \"\"\"\n",
        "        STATE, ACTION, REWARD, STATE2 = self.batch_experiences()\n",
        "        STATE = STATE.to(self.device)\n",
        "        ACTION = ACTION.to(self.device)\n",
        "        REWARD = REWARD.to(self.device)\n",
        "        STATE2 = STATE2.to(self.device)\n",
        "        losses = []\n",
        "\n",
        "        # Q-Learning target is Q*(S, A) <- r + γ max_a Q(S', a) \n",
        "        for index, state in enumerate(STATE):\n",
        "            self.optimizer.zero_grad()\n",
        "            indexed_reward = torch.Tensor([REWARD[index]])\n",
        "            indexed_state = torch.Tensor(state)\n",
        "            indexed_state2 = torch.Tensor(STATE2[index])\n",
        "            indexed_action = torch.Tensor([ACTION[index]])\n",
        "            target = indexed_reward + self.gamma * self.dqn(indexed_state2).max(0).values.unsqueeze(0)\n",
        "            current = self.dqn(indexed_state).gather(0,indexed_action.long())\n",
        "            loss = self.l1(current, target)\n",
        "            losses.append(loss.detach().numpy())\n",
        "            loss.backward()\n",
        "            self.optimizer.step()\n",
        "\n",
        "        return losses"
      ]
    },
    {
      "attachments": {},
      "cell_type": "markdown",
      "metadata": {
        "id": "Uqv2MfltU5bN"
      },
      "source": [
        "##### Обучение DQN-агента с последующим применением на основе сгенерированных данных"
      ]
    },
    {
      "cell_type": "code",
      "execution_count": 6,
      "metadata": {
        "colab": {
          "base_uri": "https://localhost:8080/",
          "height": 130
        },
        "id": "LrRnEsCYMYw-",
        "outputId": "890e3d50-1445-406a-e3e1-f04dae8321cf"
      },
      "outputs": [],
      "source": [
        "from tqdm import tqdm \n",
        "import json\n",
        "import numpy as np\n",
        "\n",
        "def run(training_mode, num_episodes=101, config_filename='config.json'):\n",
        "    \"\"\"\n",
        "      Функция обучения DQN-агента\n",
        "\n",
        "      :params:\n",
        "      training_mode: bool\n",
        "        - флаг, обозначающий необходимость записи весов обученной сети в \"DQN.pt\"\n",
        "      num_episodes: int\n",
        "        - число эпизодов обучения\n",
        "      config_filename: str\n",
        "        - название файла с конфигом для агента. Корректное оформление конфига\n",
        "        ниже с пометкой __конфиг__\n",
        "\n",
        "      :returns:\n",
        "      agent: DQNAgent\n",
        "        - обученный DQN-агент\n",
        "      losses_for_plot: list\n",
        "        - список значений функции потерь объема num_episodes x batch_size \n",
        "      av_losses_for_plot: list\n",
        "        - список средних значений функции потерь объема num_episodes x batch_size / 100\n",
        "    \"\"\"\n",
        "    observation_space = observations.shape[0]\n",
        "    action_space = len(generator_object.actions2idx)\n",
        "    \n",
        "    mem_states = torch.Tensor(observations['state'].iloc[:-1].tolist())\n",
        "    mem_next_states = torch.Tensor(observations['state'].iloc[1:].tolist())\n",
        "    mem_rewards = torch.Tensor(observations['reward'].tolist())\n",
        "    mem_actions = torch.Tensor(observations['action'].tolist())\n",
        "\n",
        "    max_mem, gamma, max_eps, min_eps, eps_decay, lr, batch_size = None, None, None, None, None, None, None\n",
        "\n",
        "    \"\"\"\n",
        "    __конфиг__\n",
        "    \n",
        "    {'max_eps': 1, 'min_eps': 0.02, 'eps_decay': 0.99, \n",
        "    'gamma': 0.95, 'mem_size': 5000, 'batch_size': 32, \n",
        "    'lr': 0.00025, 'skills': ['геймдев', 'акварель'],\n",
        "    'model_name': 'q_vacancy_research'}\n",
        "    \"\"\"\n",
        "\n",
        "    with open(config_filename, 'r', encoding='utf-8') as f:\n",
        "      config_contents = json.load(f)\n",
        "      max_mem = config_contents['mem_size']\n",
        "      gamma = config_contents['gamma']\n",
        "      max_eps = config_contents['max_eps']\n",
        "      min_eps = config_contents['min_eps']\n",
        "      eps_decay = config_contents['eps_decay']\n",
        "      lr = config_contents['lr']\n",
        "      batch_size = config_contents['batch_size']\n",
        "\n",
        "    agent = DQNAgent(\n",
        "      state_space=observation_space,\n",
        "      action_space=action_space,\n",
        "      max_memory_size=max_mem,\n",
        "      batch_size=batch_size,\n",
        "      gamma=gamma,\n",
        "      lr=lr,\n",
        "      exploration_max=max_eps,\n",
        "      exploration_min=min_eps,\n",
        "      exploration_decay=eps_decay,\n",
        "      pretrained=(not training_mode),\n",
        "      memory=(mem_states,mem_actions,mem_rewards,mem_next_states)\n",
        "    )\n",
        "\n",
        "    losses_for_verbose = []\n",
        "    losses_for_plot = []\n",
        "    av_losses_for_plot = []\n",
        "\n",
        "    for ep_num in tqdm(range(num_episodes)):\n",
        "        if training_mode:\n",
        "            losses = agent.experience_replay()\n",
        "            losses_for_verbose += losses\n",
        "            losses_for_plot += losses\n",
        "        if ep_num != 0 and ep_num % 100 == 0:\n",
        "            print(f\"Episode {ep_num}. Av. loss: {np.mean(losses_for_verbose)}\")\n",
        "            av_losses_for_plot.append(np.mean(losses_for_verbose))\n",
        "            losses_for_verbose = []\n",
        "    \n",
        "    if training_mode:\n",
        "        with open(\"total_rewards.pkl\", \"wb\") as f:\n",
        "            pickle.dump(losses_for_plot, f)\n",
        "\n",
        "        torch.save(agent.dqn.state_dict(), \"DQN.pt\")  \n",
        "\n",
        "    return agent, losses_for_plot, av_losses_for_plot"
      ]
    },
    {
      "cell_type": "code",
      "execution_count": 7,
      "metadata": {
        "colab": {
          "base_uri": "https://localhost:8080/"
        },
        "id": "xgdtzBuHUrIQ",
        "outputId": "776d1694-bbcc-432b-d988-f3c7285a99fc"
      },
      "outputs": [
        {
          "name": "stderr",
          "output_type": "stream",
          "text": [
            " 10%|█         | 104/1001 [00:03<00:34, 25.92it/s]"
          ]
        },
        {
          "name": "stdout",
          "output_type": "stream",
          "text": [
            "Episode 100. Av. loss: 0.2384304702281952\n"
          ]
        },
        {
          "name": "stderr",
          "output_type": "stream",
          "text": [
            " 20%|██        | 203/1001 [00:07<00:31, 25.62it/s]"
          ]
        },
        {
          "name": "stdout",
          "output_type": "stream",
          "text": [
            "Episode 200. Av. loss: 0.1702439934015274\n"
          ]
        },
        {
          "name": "stderr",
          "output_type": "stream",
          "text": [
            " 30%|███       | 305/1001 [00:11<00:27, 25.22it/s]"
          ]
        },
        {
          "name": "stdout",
          "output_type": "stream",
          "text": [
            "Episode 300. Av. loss: 0.16809482872486115\n"
          ]
        },
        {
          "name": "stderr",
          "output_type": "stream",
          "text": [
            " 40%|████      | 404/1001 [00:15<00:23, 25.05it/s]"
          ]
        },
        {
          "name": "stdout",
          "output_type": "stream",
          "text": [
            "Episode 400. Av. loss: 0.16668660938739777\n"
          ]
        },
        {
          "name": "stderr",
          "output_type": "stream",
          "text": [
            " 51%|█████     | 506/1001 [00:19<00:18, 26.16it/s]"
          ]
        },
        {
          "name": "stdout",
          "output_type": "stream",
          "text": [
            "Episode 500. Av. loss: 0.16536100208759308\n"
          ]
        },
        {
          "name": "stderr",
          "output_type": "stream",
          "text": [
            " 60%|██████    | 605/1001 [00:23<00:15, 25.41it/s]"
          ]
        },
        {
          "name": "stdout",
          "output_type": "stream",
          "text": [
            "Episode 600. Av. loss: 0.16925553977489471\n"
          ]
        },
        {
          "name": "stderr",
          "output_type": "stream",
          "text": [
            " 70%|███████   | 704/1001 [00:27<00:11, 25.48it/s]"
          ]
        },
        {
          "name": "stdout",
          "output_type": "stream",
          "text": [
            "Episode 700. Av. loss: 0.16819792985916138\n"
          ]
        },
        {
          "name": "stderr",
          "output_type": "stream",
          "text": [
            " 81%|████████  | 806/1001 [00:31<00:07, 26.27it/s]"
          ]
        },
        {
          "name": "stdout",
          "output_type": "stream",
          "text": [
            "Episode 800. Av. loss: 0.1685434728860855\n"
          ]
        },
        {
          "name": "stderr",
          "output_type": "stream",
          "text": [
            " 90%|█████████ | 905/1001 [00:35<00:04, 22.58it/s]"
          ]
        },
        {
          "name": "stdout",
          "output_type": "stream",
          "text": [
            "Episode 900. Av. loss: 0.16755767166614532\n"
          ]
        },
        {
          "name": "stderr",
          "output_type": "stream",
          "text": [
            "100%|██████████| 1001/1001 [00:39<00:00, 25.30it/s]\n"
          ]
        },
        {
          "name": "stdout",
          "output_type": "stream",
          "text": [
            "Episode 1000. Av. loss: 0.17360496520996094\n"
          ]
        }
      ],
      "source": [
        "trained_model, losses, av_losses = run(True,num_episodes=1001)\n",
        "losses = [loss.item() for loss in losses]"
      ]
    },
    {
      "cell_type": "code",
      "execution_count": 8,
      "metadata": {
        "colab": {
          "base_uri": "https://localhost:8080/",
          "height": 451
        },
        "id": "zKotKw94UrIR",
        "outputId": "c0f9d21d-ef17-48d9-9f08-fabdbc89855a"
      },
      "outputs": [
        {
          "data": {
            "text/plain": [
              "<matplotlib.legend.Legend at 0x1581262f2e0>"
            ]
          },
          "execution_count": 8,
          "metadata": {},
          "output_type": "execute_result"
        },
        {
          "data": {
            "image/png": "[encoded data removed]",
            "text/plain": [
              "<Figure size 640x480 with 1 Axes>"
            ]
          },
          "metadata": {},
          "output_type": "display_data"
        }
      ],
      "source": [
        "import matplotlib.pyplot as plt\n",
        "import seaborn as sns\n",
        "\n",
        "sns.set(style='darkgrid')\n",
        "plt.plot(losses, label='Huber loss')\n",
        "plt.legend(loc='best', fancybox=True, shadow=True)"
      ]
    },
    {
      "cell_type": "code",
      "execution_count": 9,
      "metadata": {
        "colab": {
          "base_uri": "https://localhost:8080/",
          "height": 485
        },
        "id": "PAoHxPUQa-Eh",
        "outputId": "38127789-d66a-46ad-cc5d-6ee7e65261bf"
      },
      "outputs": [
        {
          "data": {
            "text/plain": [
              "<matplotlib.legend.Legend at 0x1581365ece0>"
            ]
          },
          "execution_count": 9,
          "metadata": {},
          "output_type": "execute_result"
        },
        {
          "data": {
            "image/png": "[encoded data removed]",
            "text/plain": [
              "<Figure size 640x480 with 1 Axes>"
            ]
          },
          "metadata": {},
          "output_type": "display_data"
        }
      ],
      "source": [
        "import matplotlib.pyplot as plt\n",
        "import seaborn as sns\n",
        "\n",
        "sns.set(style='darkgrid')\n",
        "plt.plot(av_losses, label='Среднее значение Huber loss')\n",
        "plt.xticks(range(0,10), np.arange(1,11,1)*3200, rotation='vertical')\n",
        "plt.legend(loc='best', fancybox=True, shadow=True)"
      ]
    },
    {
      "cell_type": "code",
      "execution_count": 14,
      "metadata": {
        "colab": {
          "base_uri": "https://localhost:8080/",
          "height": 206
        },
        "id": "NCiw__a-qlGM",
        "outputId": "b643120d-5011-4018-c0c6-d1d0e6b42dd9"
      },
      "outputs": [
        {
          "data": {
            "text/html": [
              "<div>\n",
              "<style scoped>\n",
              "    .dataframe tbody tr th:only-of-type {\n",
              "        vertical-align: middle;\n",
              "    }\n",
              "\n",
              "    .dataframe tbody tr th {\n",
              "        vertical-align: top;\n",
              "    }\n",
              "\n",
              "    .dataframe thead th {\n",
              "        text-align: right;\n",
              "    }\n",
              "</style>\n",
              "<table border=\"1\" class=\"dataframe\">\n",
              "  <thead>\n",
              "    <tr style=\"text-align: right;\">\n",
              "      <th></th>\n",
              "      <th>возраст</th>\n",
              "      <th>навык</th>\n",
              "      <th>рекомендация</th>\n",
              "      <th>Q-значение</th>\n",
              "    </tr>\n",
              "  </thead>\n",
              "  <tbody>\n",
              "    <tr>\n",
              "      <th>0</th>\n",
              "      <td>48</td>\n",
              "      <td>акварель</td>\n",
              "      <td>юристы</td>\n",
              "      <td>0.058868</td>\n",
              "    </tr>\n",
              "    <tr>\n",
              "      <th>1</th>\n",
              "      <td>23</td>\n",
              "      <td>геймдев</td>\n",
              "      <td>юристы</td>\n",
              "      <td>0.058868</td>\n",
              "    </tr>\n",
              "    <tr>\n",
              "      <th>2</th>\n",
              "      <td>69</td>\n",
              "      <td>акварель</td>\n",
              "      <td>юристы</td>\n",
              "      <td>0.058868</td>\n",
              "    </tr>\n",
              "    <tr>\n",
              "      <th>3</th>\n",
              "      <td>14</td>\n",
              "      <td>геймдев</td>\n",
              "      <td>началокарьеры</td>\n",
              "      <td>0.063783</td>\n",
              "    </tr>\n",
              "    <tr>\n",
              "      <th>4</th>\n",
              "      <td>21</td>\n",
              "      <td>акварель</td>\n",
              "      <td>наука</td>\n",
              "      <td>0.077453</td>\n",
              "    </tr>\n",
              "  </tbody>\n",
              "</table>\n",
              "</div>"
            ],
            "text/plain": [
              "   возраст     навык   рекомендация  Q-значение\n",
              "0       48  акварель         юристы    0.058868\n",
              "1       23   геймдев         юристы    0.058868\n",
              "2       69  акварель         юристы    0.058868\n",
              "3       14   геймдев  началокарьеры    0.063783\n",
              "4       21  акварель          наука    0.077453"
            ]
          },
          "execution_count": 14,
          "metadata": {},
          "output_type": "execute_result"
        }
      ],
      "source": [
        "generated_records = []\n",
        "for _ in range(5):\n",
        "  random_age = random.randint(14, 85)\n",
        "  random_profficiency = random.randint(0,1)\n",
        "  recommendation = trained_model.dqn(torch.Tensor([random_age,random_profficiency]))\n",
        "  generated_records.append(\n",
        "    {'возраст': random_age, 'навык': generator_object.names2idx[random_profficiency],\n",
        "     'рекомендация': generator_object.actions2idx[recommendation.argmax(0).item()], \n",
        "     'Q-значение':torch.max(recommendation).item()}\n",
        "  )\n",
        "pd.DataFrame(generated_records)"
      ]
    }
  ],
  "metadata": {
    "colab": {
      "provenance": []
    },
    "kernelspec": {
      "display_name": "base",
      "language": "python",
      "name": "python3"
    },
    "language_info": {
      "codemirror_mode": {
        "name": "ipython",
        "version": 3
      },
      "file_extension": ".py",
      "mimetype": "text/x-python",
      "name": "python",
      "nbconvert_exporter": "python",
      "pygments_lexer": "ipython3",
      "version": "3.10.9"
    },
    "orig_nbformat": 4
  },
  "nbformat": 4,
  "nbformat_minor": 0
}
